{
 "cells": [
  {
   "cell_type": "code",
   "execution_count": null,
   "id": "de2bcdb9-5947-45d3-80f1-baa596e99796",
   "metadata": {
    "tags": []
   },
   "outputs": [],
   "source": [
    "import pandas as pd\n",
    "import seaborn as sns\n",
    "import matplotlib.pyplot as plt"
   ]
  },
  {
   "cell_type": "code",
   "execution_count": null,
   "id": "e974b50d-7b4b-4477-b4e6-93775f53cff8",
   "metadata": {
    "tags": []
   },
   "outputs": [],
   "source": [
    "## Roubo Agravado"
   ]
  },
  {
   "cell_type": "code",
   "execution_count": null,
   "id": "8670368b-3e99-494d-bacc-d20774411e28",
   "metadata": {
    "tags": []
   },
   "outputs": [],
   "source": [
    "#### Curitiba"
   ]
  },
  {
   "cell_type": "code",
   "execution_count": null,
   "id": "8c37aea4-b2a1-4877-9a6d-9c7f1074a5f7",
   "metadata": {
    "tags": []
   },
   "outputs": [],
   "source": [
    "#### Carrega os Dados\n",
    "df_roubo_agravado_cwb_2021 = pd.read_excel('dataset/roubo_agravado/curitiba/2021.xlsx')\n",
    "df_roubo_agravado_cwb_2022 = pd.read_excel('dataset/roubo_agravado/curitiba/2022.xlsx')\n",
    "df_roubo_agravado_cwb = pd.concat([df_roubo_agravado_cwb_2021, df_roubo_agravado_cwb_2022])"
   ]
  },
  {
   "cell_type": "code",
   "execution_count": null,
   "id": "4cbbe4b3-bf93-463c-8f8e-fe044f6ba7c2",
   "metadata": {
    "tags": []
   },
   "outputs": [],
   "source": [
    "df_roubo_agravado_cwb.drop(columns=['AISP', 'Tipo Natureza', 'Natureza'], inplace=True)\n",
    "dict_rename = {'Ano BOU': 'ANO_BOU', 'Ano':'ANO', 'Mês':'MES', 'Dia':'DIA', 'Dia da Semana':'DIA_SEMANA', 'Hora':'HORA', 'Município':'CIDADE', 'Bairro':'BAIRRO', 'Ambiente':'AMBIENTE'}\n",
    "df_roubo_agravado_cwb.rename(columns=dict_rename, inplace=True)"
   ]
  },
  {
   "cell_type": "code",
   "execution_count": null,
   "id": "d395a934-e7d9-499c-924b-45e170a4671d",
   "metadata": {
    "tags": []
   },
   "outputs": [],
   "source": [
    "df_roubo_agravado_cwb"
   ]
  },
  {
   "cell_type": "code",
   "execution_count": null,
   "id": "6b094bbb-2092-4380-836f-61a33b92fb71",
   "metadata": {
    "tags": []
   },
   "outputs": [],
   "source": [
    "### Gráficos Seaborn"
   ]
  },
  {
   "cell_type": "code",
   "execution_count": null,
   "id": "4049c566-fc57-48ee-8f92-566de7a65cdb",
   "metadata": {
    "tags": []
   },
   "outputs": [],
   "source": [
    "bairros_selecionados = ['CENTRO', 'CRISTO REI']"
   ]
  },
  {
   "cell_type": "code",
   "execution_count": null,
   "id": "38f0f8a8-a0de-4902-855a-aad87ae40914",
   "metadata": {
    "tags": []
   },
   "outputs": [],
   "source": [
    "## Horários com Mais Roubo por Bairro\n",
    "sns.displot(x='BAIRRO', hue='HORA', multiple=\"dodge\", data=df_roubo_agravado_cwb[df_roubo_agravado_cwb['BAIRRO'].isin(bairros_selecionados)], height=30, aspect=1)"
   ]
  },
  {
   "cell_type": "code",
   "execution_count": null,
   "id": "62afb901-9a2e-4ef6-a57b-9e2de96fc578",
   "metadata": {
    "tags": []
   },
   "outputs": [],
   "source": [
    "## Ambientes com Mais Roubos por Bairro (selecionados)\n",
    "# sns.set(rc={'figure.figsize': (30, 30)})\n",
    "sns.displot(x='BAIRRO', hue='AMBIENTE', multiple=\"dodge\", data=df_roubo_agravado_cwb[df_roubo_agravado_cwb['BAIRRO'].isin(bairros_selecionados)], height=20, aspect=1)"
   ]
  },
  {
   "cell_type": "code",
   "execution_count": null,
   "id": "b6f0d0c1-5c0f-4fe0-81d7-9d23dee466da",
   "metadata": {},
   "outputs": [],
   "source": [
    "# Horários com Mais Roubos para os Ambientes Selecionados\n",
    "# df_roubo_agravado_cwb.head(20)\n",
    "# df_roubo_agravado_cwb[df_roubo_agravado_cwb['BAIRRO'] == 'CRISTO REI']['HORA'].value_counts()\n",
    "# for key, item in df_roubo_agravado_cwb.groupby('BAIRRO'):\n",
    "#     print(item['HORA'].value_counts())\n",
    "df_roubo_agravado_cwb[df_roubo_agravado_cwb['AMBIENTE'].isin(['COMERCIO', 'PUBLICO'])].groupby('AMBIENTE')['HORA'].value_counts()[:40]"
   ]
  },
  {
   "cell_type": "code",
   "execution_count": null,
   "id": "6bd3479c-67c3-4bfe-8284-4af0127332ff",
   "metadata": {},
   "outputs": [],
   "source": [
    "# Horários com Mais Roubos para os Ambientes Selecionados\n",
    "sns.set(rc={'figure.figsize': (30, 30)})\n",
    "sns.displot(x='AMBIENTE', hue='HORA', multiple=\"dodge\", data=df_roubo_agravado_cwb[df_roubo_agravado_cwb['AMBIENTE'].isin(['COMERCIO', 'PUBLICO'])])"
   ]
  },
  {
   "cell_type": "code",
   "execution_count": null,
   "id": "03b71e38-4dd3-496c-b679-2d88fba6bf9d",
   "metadata": {},
   "outputs": [],
   "source": [
    "## Dias da Semana com Mais Roubos por Bairro\n",
    "sns.displot(x='BAIRRO', hue='DIA_SEMANA', multiple=\"dodge\", data=df_roubo_agravado_cwb[df_roubo_agravado_cwb['BAIRRO'].isin(bairros_selecionados)], height=30, aspect=1)"
   ]
  },
  {
   "cell_type": "code",
   "execution_count": null,
   "id": "8c934f6e-b6c6-468c-8594-fcbe206257c4",
   "metadata": {
    "tags": []
   },
   "outputs": [],
   "source": [
    "## Ambientes com Mais Roubos\n",
    "# sns.set(rc={'figure.figsize': (30, 30)})\n",
    "sns.displot(x='AMBIENTE', data=df_roubo_agravado_cwb, height=30, aspect=1)"
   ]
  },
  {
   "cell_type": "code",
   "execution_count": null,
   "id": "8101ea15-448c-4e25-9f6e-bfd5ec97c5a1",
   "metadata": {
    "tags": []
   },
   "outputs": [],
   "source": [
    "## Gráficos MatPlotLib"
   ]
  },
  {
   "cell_type": "code",
   "execution_count": null,
   "id": "4da6866f-e6c9-412b-aae4-60121ffbfeb2",
   "metadata": {
    "tags": []
   },
   "outputs": [],
   "source": [
    "## Horários com Mais Roubos\n",
    "plt.figure(figsize=(10, 10))\n",
    "df_roubo_agravado_cwb['HORA'].value_counts(sort=False).sort_index(ascending=False).plot(kind='pie')"
   ]
  },
  {
   "cell_type": "code",
   "execution_count": null,
   "id": "6bc17531-f96b-46de-a549-cc47a566ec91",
   "metadata": {},
   "outputs": [],
   "source": [
    "## Bairros com Mais Roubos\n",
    "plt.figure(figsize=(20, 20))\n",
    "df_roubo_agravado_cwb['BAIRRO'].value_counts().plot(kind='pie')"
   ]
  },
  {
   "cell_type": "code",
   "execution_count": null,
   "id": "faad2327-ef66-47ed-b5b0-4198cd028797",
   "metadata": {},
   "outputs": [],
   "source": [
    "## Dia da Semana com Mais Roubos\n",
    "plt.figure(figsize=(20, 20))\n",
    "df_roubo_agravado_cwb['DIA_SEMANA'].value_counts(sort=False).plot(kind='bar')"
   ]
  },
  {
   "cell_type": "code",
   "execution_count": null,
   "id": "218af15d-d659-4690-8a2c-96795fb4ccba",
   "metadata": {},
   "outputs": [],
   "source": [
    "## Roubo Por Ano\n",
    "df_roubo_agravado_cwb['ANO'].value_counts().plot(kind='bar')"
   ]
  },
  {
   "cell_type": "code",
   "execution_count": null,
   "id": "866b2211-0e36-4973-a13f-14a9ab3eb9ac",
   "metadata": {},
   "outputs": [],
   "source": []
  }
 ],
 "metadata": {
  "kernelspec": {
   "display_name": "Python 3 (ipykernel)",
   "language": "python",
   "name": "python3"
  },
  "language_info": {
   "codemirror_mode": {
    "name": "ipython",
    "version": 3
   },
   "file_extension": ".py",
   "mimetype": "text/x-python",
   "name": "python",
   "nbconvert_exporter": "python",
   "pygments_lexer": "ipython3",
   "version": "3.11.2"
  }
 },
 "nbformat": 4,
 "nbformat_minor": 5
}
