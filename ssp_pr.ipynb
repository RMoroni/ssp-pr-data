{
 "cells": [
  {
   "cell_type": "code",
   "execution_count": null,
   "id": "de2bcdb9-5947-45d3-80f1-baa596e99796",
   "metadata": {},
   "outputs": [],
   "source": [
    "import pandas as pd\n",
    "import seaborn as sns"
   ]
  },
  {
   "cell_type": "code",
   "execution_count": null,
   "id": "8c37aea4-b2a1-4877-9a6d-9c7f1074a5f7",
   "metadata": {},
   "outputs": [],
   "source": [
    "df_roubo_agravado_cwb = pd.read_excel('ssp_curitiba_roubo_agravado_2021.xlsx')"
   ]
  },
  {
   "cell_type": "code",
   "execution_count": null,
   "id": "4cbbe4b3-bf93-463c-8f8e-fe044f6ba7c2",
   "metadata": {},
   "outputs": [],
   "source": [
    "df_roubo_agravado_cwb.drop(columns=['AISP', 'Tipo Natureza', 'Natureza'], inplace=True)\n",
    "dict_rename = {'Ano BOU': 'ANO_BOU', 'Ano':'ANO', 'Mês':'MES', 'Dia':'DIA', 'Dia da Semana':'DIA_SEMANA', 'Hora':'HORA', 'Município':'CIDADE', 'Bairro':'BAIRRO', 'Ambiente':'AMBIENTE'}\n",
    "df_roubo_agravado_cwb.rename(columns=dict_rename, inplace=True)"
   ]
  },
  {
   "cell_type": "code",
   "execution_count": null,
   "id": "f78c8fac-c7ee-478b-88e9-b120dcfbb031",
   "metadata": {},
   "outputs": [],
   "source": [
    "# df_roubo_agravado_cwb[df_roubo_agravado_cwb['BAIRRO'] == 'CRISTO REI']['HORA'].value_counts()\n",
    "for key, item in df_roubo_agravado_cwb.groupby('BAIRRO'):\n",
    "    print(item['HORA'].value_counts())"
   ]
  },
  {
   "cell_type": "code",
   "execution_count": null,
   "id": "38f0f8a8-a0de-4902-855a-aad87ae40914",
   "metadata": {},
   "outputs": [],
   "source": [
    "sns.displot(x='AMBIENTE', data=df_roubo_agravado_cwb[df_roubo_agravado_cwb['AMBIENTE'].isin(['COMERCIO', 'PUBLICO', 'TRANSPORTE', 'VEICULO'])])"
   ]
  },
  {
   "cell_type": "code",
   "execution_count": null,
   "id": "62afb901-9a2e-4ef6-a57b-9e2de96fc578",
   "metadata": {},
   "outputs": [],
   "source": [
    "sns.scatterplot(x='HORA', y='HORA', hue='AMBIENTE', data=df_roubo_agravado_cwb[df_roubo_agravado_cwb['AMBIENTE'].isin(['COMERCIO', 'PUBLICO'])])"
   ]
  },
  {
   "cell_type": "code",
   "execution_count": null,
   "id": "b6f0d0c1-5c0f-4fe0-81d7-9d23dee466da",
   "metadata": {},
   "outputs": [],
   "source": [
    "# df_roubo_agravado_cwb.head(20)\n",
    "df_roubo_agravado_cwb[df_roubo_agravado_cwb['AMBIENTE'].isin(['COMERCIO', 'PUBLICO'])].groupby('AMBIENTE')['HORA'].value_counts()[:40]"
   ]
  },
  {
   "cell_type": "code",
   "execution_count": null,
   "id": "6bc17531-f96b-46de-a549-cc47a566ec91",
   "metadata": {},
   "outputs": [],
   "source": []
  }
 ],
 "metadata": {
  "kernelspec": {
   "display_name": "Python 3",
   "language": "python",
   "name": "python3"
  },
  "language_info": {
   "codemirror_mode": {
    "name": "ipython",
    "version": 3
   },
   "file_extension": ".py",
   "mimetype": "text/x-python",
   "name": "python",
   "nbconvert_exporter": "python",
   "pygments_lexer": "ipython3",
   "version": "3.8.10"
  }
 },
 "nbformat": 4,
 "nbformat_minor": 5
}
