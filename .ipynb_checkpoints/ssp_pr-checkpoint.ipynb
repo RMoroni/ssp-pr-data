{
 "cells": [
  {
   "cell_type": "code",
   "execution_count": null,
   "id": "de2bcdb9-5947-45d3-80f1-baa596e99796",
   "metadata": {},
   "outputs": [],
   "source": [
    "import pandas as pd\n",
    "import seaborn as sns\n",
    "import matplotlib.pyplot as plt"
   ]
  },
  {
   "cell_type": "code",
   "execution_count": null,
   "id": "8c37aea4-b2a1-4877-9a6d-9c7f1074a5f7",
   "metadata": {},
   "outputs": [],
   "source": [
    "df_roubo_agravado_cwb = pd.read_excel('ssp_curitiba_roubo_agravado_2022_jan_out.xlsx')"
   ]
  },
  {
   "cell_type": "code",
   "execution_count": null,
   "id": "4cbbe4b3-bf93-463c-8f8e-fe044f6ba7c2",
   "metadata": {},
   "outputs": [],
   "source": [
    "df_roubo_agravado_cwb.drop(columns=['AISP', 'Tipo Natureza', 'Natureza'], inplace=True)\n",
    "dict_rename = {'Ano BOU': 'ANO_BOU', 'Ano':'ANO', 'Mês':'MES', 'Dia':'DIA', 'Dia da Semana':'DIA_SEMANA', 'Hora':'HORA', 'Município':'CIDADE', 'Bairro':'BAIRRO', 'Ambiente':'AMBIENTE'}\n",
    "df_roubo_agravado_cwb.rename(columns=dict_rename, inplace=True)"
   ]
  },
  {
   "cell_type": "code",
   "execution_count": null,
   "id": "d395a934-e7d9-499c-924b-45e170a4671d",
   "metadata": {},
   "outputs": [],
   "source": [
    "df_roubo_agravado_cwb"
   ]
  },
  {
   "cell_type": "code",
   "execution_count": null,
   "id": "38f0f8a8-a0de-4902-855a-aad87ae40914",
   "metadata": {},
   "outputs": [],
   "source": [
    "## Horários com Mais Roubo por Bairro\n",
    "sns.displot(x='BAIRRO', hue='HORA', multiple=\"dodge\", data=df_roubo_agravado_cwb[df_roubo_agravado_cwb['BAIRRO'].isin(['CENTRO', 'CRISTO REI'])], height=30, aspect=1)"
   ]
  },
  {
   "cell_type": "code",
   "execution_count": null,
   "id": "62afb901-9a2e-4ef6-a57b-9e2de96fc578",
   "metadata": {},
   "outputs": [],
   "source": [
    "## Ambientes com Mais Roubos por Bairro (selecionados)\n",
    "# sns.set(rc={'figure.figsize': (30, 30)})\n",
    "sns.displot(x='BAIRRO', hue='AMBIENTE', multiple=\"dodge\", data=df_roubo_agravado_cwb[df_roubo_agravado_cwb['BAIRRO'].isin(['CENTRO', 'CRISTO REI'])], height=20, aspect=1)"
   ]
  },
  {
   "cell_type": "code",
   "execution_count": null,
   "id": "b6f0d0c1-5c0f-4fe0-81d7-9d23dee466da",
   "metadata": {},
   "outputs": [],
   "source": [
    "# Horários com Mais Roubos para os Ambientes Selecionados\n",
    "# df_roubo_agravado_cwb.head(20)\n",
    "# df_roubo_agravado_cwb[df_roubo_agravado_cwb['BAIRRO'] == 'CRISTO REI']['HORA'].value_counts()\n",
    "# for key, item in df_roubo_agravado_cwb.groupby('BAIRRO'):\n",
    "#     print(item['HORA'].value_counts())\n",
    "df_roubo_agravado_cwb[df_roubo_agravado_cwb['AMBIENTE'].isin(['COMERCIO', 'PUBLICO'])].groupby('AMBIENTE')['HORA'].value_counts()[:40]"
   ]
  },
  {
   "cell_type": "code",
   "execution_count": null,
   "id": "6bd3479c-67c3-4bfe-8284-4af0127332ff",
   "metadata": {},
   "outputs": [],
   "source": [
    "# Horários com Mais Roubos para os Ambientes Selecionados\n",
    "sns.set(rc={'figure.figsize': (30, 30)})\n",
    "sns.displot(x='AMBIENTE', hue='HORA', multiple=\"dodge\", data=df_roubo_agravado_cwb[df_roubo_agravado_cwb['AMBIENTE'].isin(['COMERCIO', 'PUBLICO'])])"
   ]
  },
  {
   "cell_type": "code",
   "execution_count": null,
   "id": "03b71e38-4dd3-496c-b679-2d88fba6bf9d",
   "metadata": {},
   "outputs": [],
   "source": [
    "## Dias da Semana com Mais Roubos por Bairro\n",
    "sns.displot(x='BAIRRO', hue='DIA_SEMANA', multiple=\"dodge\", data=df_roubo_agravado_cwb[df_roubo_agravado_cwb['BAIRRO'].isin(['CENTRO', 'CRISTO REI'])], height=30, aspect=1)"
   ]
  },
  {
   "cell_type": "code",
   "execution_count": null,
   "id": "4da6866f-e6c9-412b-aae4-60121ffbfeb2",
   "metadata": {},
   "outputs": [],
   "source": [
    "## Horários com Mais Roubos\n",
    "plt.figure(figsize=(10, 10))\n",
    "df_roubo_agravado_cwb['HORA'].value_counts().plot(kind='pie')"
   ]
  },
  {
   "cell_type": "code",
   "execution_count": null,
   "id": "6bc17531-f96b-46de-a549-cc47a566ec91",
   "metadata": {},
   "outputs": [],
   "source": [
    "## Bairros com Mais Roubos\n",
    "plt.figure(figsize=(20, 20))\n",
    "df_roubo_agravado_cwb['BAIRRO'].value_counts().plot(kind='pie')"
   ]
  },
  {
   "cell_type": "code",
   "execution_count": null,
   "id": "faad2327-ef66-47ed-b5b0-4198cd028797",
   "metadata": {},
   "outputs": [],
   "source": [
    "## Dia da Semana com Mais Roubos\n",
    "plt.figure(figsize=(20, 20))\n",
    "df_roubo_agravado_cwb['DIA_SEMANA'].value_counts(sort=False).plot(kind='bar')"
   ]
  },
  {
   "cell_type": "code",
   "execution_count": null,
   "id": "fc746240-3777-420d-8121-a4aaea5721d3",
   "metadata": {},
   "outputs": [],
   "source": [
    "## Ambientes com Mais Roubos\n",
    "# sns.set(rc={'figure.figsize': (30, 30)})\n",
    "sns.displot(x='AMBIENTE', data=df_roubo_agravado_cwb, height=30, aspect=1)"
   ]
  }
 ],
 "metadata": {
  "kernelspec": {
   "display_name": "Python 3",
   "language": "python",
   "name": "python3"
  },
  "language_info": {
   "codemirror_mode": {
    "name": "ipython",
    "version": 3
   },
   "file_extension": ".py",
   "mimetype": "text/x-python",
   "name": "python",
   "nbconvert_exporter": "python",
   "pygments_lexer": "ipython3",
   "version": "3.8.10"
  }
 },
 "nbformat": 4,
 "nbformat_minor": 5
}
